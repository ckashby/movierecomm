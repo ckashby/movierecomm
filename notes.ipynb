{
 "cells": [
  {
   "cell_type": "code",
   "execution_count": 1,
   "metadata": {},
   "outputs": [
    {
     "name": "stdout",
     "output_type": "stream",
     "text": [
      "This\n",
      " is a\tstring with \\escape \f' characters.\n"
     ]
    }
   ],
   "source": [
    "import re\n",
    "\n",
    "def remove_escape_chars(text):\n",
    "  \"\"\"Removes common escape characters from a string.\"\"\"\n",
    "  escape_chars = r\"\\n\\t\\r\\f\\\\'\"  # Common escape characters\n",
    "  return re.sub(escape_chars, \"\", text)\n",
    "\n",
    "# Example usage\n",
    "text = \"This\\n is a\\tstring with \\\\escape \\r\\b\\f' characters.\"\n",
    "cleaned_text = remove_escape_chars(text)\n",
    "print(cleaned_text)\n",
    "\n",
    "# data['consumer_complaint_narrative'] = data['consumer_complaint_narrative'].astype(str).apply(lambda x: x.replace('//', ''))\n"
   ]
  },
  {
   "cell_type": "code",
   "execution_count": 2,
   "metadata": {},
   "outputs": [
    {
     "name": "stdout",
     "output_type": "stream",
     "text": [
      "{0, 4, 8, 9, 16, 17, 18, 19, 26, 27, 28, 29}\n"
     ]
    }
   ],
   "source": [
    "def find_available_tournaments(busy_days):\n",
    "    available_days = set(range(30))\n",
    "    for days in busy_days:\n",
    "        start, end = days\n",
    "        available_days -= set(range(start, end+1))\n",
    "    return available_days\n",
    "\n",
    "busy_days = [(1, 3), (5, 7), (10, 15), (20, 25)]\n",
    "# convert busy_days to a set of available days\n",
    "available_days = find_available_tournaments(busy_days)\n",
    "print(available_days)"
   ]
  },
  {
   "cell_type": "code",
   "execution_count": null,
   "metadata": {},
   "outputs": [],
   "source": []
  }
 ],
 "metadata": {
  "kernelspec": {
   "display_name": "ga",
   "language": "python",
   "name": "python3"
  },
  "language_info": {
   "codemirror_mode": {
    "name": "ipython",
    "version": 3
   },
   "file_extension": ".py",
   "mimetype": "text/x-python",
   "name": "python",
   "nbconvert_exporter": "python",
   "pygments_lexer": "ipython3",
   "version": "3.11.0"
  }
 },
 "nbformat": 4,
 "nbformat_minor": 2
}
