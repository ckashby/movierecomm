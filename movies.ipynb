{
 "cells": [
  {
   "cell_type": "code",
   "execution_count": 91,
   "metadata": {},
   "outputs": [],
   "source": [
    "import pandas as pd\n",
    "import numpy as np\n",
    "import re\n",
    "\n",
    "from sklearn.feature_extraction.text import TfidfVectorizer\n",
    "from sklearn.metrics.pairwise import cosine_similarity\n",
    "\n",
    "import ipywidgets as widgets\n",
    "from IPython.display import display"
   ]
  },
  {
   "cell_type": "code",
   "execution_count": 92,
   "metadata": {},
   "outputs": [],
   "source": [
    "movies_df = pd.read_csv('./data/movies.csv')\n",
    "ratings_df = pd.read_csv('./data/ratings.csv')"
   ]
  },
  {
   "cell_type": "code",
   "execution_count": 93,
   "metadata": {},
   "outputs": [
    {
     "data": {
      "text/html": [
       "<div>\n",
       "<style scoped>\n",
       "    .dataframe tbody tr th:only-of-type {\n",
       "        vertical-align: middle;\n",
       "    }\n",
       "\n",
       "    .dataframe tbody tr th {\n",
       "        vertical-align: top;\n",
       "    }\n",
       "\n",
       "    .dataframe thead th {\n",
       "        text-align: right;\n",
       "    }\n",
       "</style>\n",
       "<table border=\"1\" class=\"dataframe\">\n",
       "  <thead>\n",
       "    <tr style=\"text-align: right;\">\n",
       "      <th></th>\n",
       "      <th>movieId</th>\n",
       "      <th>title</th>\n",
       "      <th>genres</th>\n",
       "    </tr>\n",
       "  </thead>\n",
       "  <tbody>\n",
       "    <tr>\n",
       "      <th>0</th>\n",
       "      <td>1</td>\n",
       "      <td>Toy Story (1995)</td>\n",
       "      <td>Adventure|Animation|Children|Comedy|Fantasy</td>\n",
       "    </tr>\n",
       "    <tr>\n",
       "      <th>1</th>\n",
       "      <td>2</td>\n",
       "      <td>Jumanji (1995)</td>\n",
       "      <td>Adventure|Children|Fantasy</td>\n",
       "    </tr>\n",
       "    <tr>\n",
       "      <th>2</th>\n",
       "      <td>3</td>\n",
       "      <td>Grumpier Old Men (1995)</td>\n",
       "      <td>Comedy|Romance</td>\n",
       "    </tr>\n",
       "  </tbody>\n",
       "</table>\n",
       "</div>"
      ],
      "text/plain": [
       "   movieId                    title  \\\n",
       "0        1         Toy Story (1995)   \n",
       "1        2           Jumanji (1995)   \n",
       "2        3  Grumpier Old Men (1995)   \n",
       "\n",
       "                                        genres  \n",
       "0  Adventure|Animation|Children|Comedy|Fantasy  \n",
       "1                   Adventure|Children|Fantasy  \n",
       "2                               Comedy|Romance  "
      ]
     },
     "execution_count": 93,
     "metadata": {},
     "output_type": "execute_result"
    }
   ],
   "source": [
    "movies_df.head(3)"
   ]
  },
  {
   "cell_type": "code",
   "execution_count": 94,
   "metadata": {},
   "outputs": [
    {
     "data": {
      "text/html": [
       "<div>\n",
       "<style scoped>\n",
       "    .dataframe tbody tr th:only-of-type {\n",
       "        vertical-align: middle;\n",
       "    }\n",
       "\n",
       "    .dataframe tbody tr th {\n",
       "        vertical-align: top;\n",
       "    }\n",
       "\n",
       "    .dataframe thead th {\n",
       "        text-align: right;\n",
       "    }\n",
       "</style>\n",
       "<table border=\"1\" class=\"dataframe\">\n",
       "  <thead>\n",
       "    <tr style=\"text-align: right;\">\n",
       "      <th></th>\n",
       "      <th>userId</th>\n",
       "      <th>movieId</th>\n",
       "      <th>rating</th>\n",
       "      <th>timestamp</th>\n",
       "    </tr>\n",
       "  </thead>\n",
       "  <tbody>\n",
       "    <tr>\n",
       "      <th>0</th>\n",
       "      <td>1</td>\n",
       "      <td>1</td>\n",
       "      <td>4.0</td>\n",
       "      <td>2000-07-30 18:45:03</td>\n",
       "    </tr>\n",
       "    <tr>\n",
       "      <th>1</th>\n",
       "      <td>1</td>\n",
       "      <td>3</td>\n",
       "      <td>4.0</td>\n",
       "      <td>2000-07-30 18:20:47</td>\n",
       "    </tr>\n",
       "    <tr>\n",
       "      <th>2</th>\n",
       "      <td>1</td>\n",
       "      <td>6</td>\n",
       "      <td>4.0</td>\n",
       "      <td>2000-07-30 18:37:04</td>\n",
       "    </tr>\n",
       "  </tbody>\n",
       "</table>\n",
       "</div>"
      ],
      "text/plain": [
       "   userId  movieId  rating           timestamp\n",
       "0       1        1     4.0 2000-07-30 18:45:03\n",
       "1       1        3     4.0 2000-07-30 18:20:47\n",
       "2       1        6     4.0 2000-07-30 18:37:04"
      ]
     },
     "execution_count": 94,
     "metadata": {},
     "output_type": "execute_result"
    }
   ],
   "source": [
    "# ratings_df.info()\n",
    "ratings_df['timestamp'] = pd.to_datetime(ratings_df['timestamp'], unit='s')\n",
    "ratings_df.head(3)"
   ]
  },
  {
   "cell_type": "code",
   "execution_count": 95,
   "metadata": {},
   "outputs": [],
   "source": [
    "def clean_title(title):\n",
    "    return re.sub(\"[^a-zA-Z0-9 ]\", \"\", title)\n",
    "\n",
    "movies_df['clean_title'] = movies_df['title'].apply(clean_title)"
   ]
  },
  {
   "cell_type": "code",
   "execution_count": 96,
   "metadata": {},
   "outputs": [
    {
     "data": {
      "text/html": [
       "<div>\n",
       "<style scoped>\n",
       "    .dataframe tbody tr th:only-of-type {\n",
       "        vertical-align: middle;\n",
       "    }\n",
       "\n",
       "    .dataframe tbody tr th {\n",
       "        vertical-align: top;\n",
       "    }\n",
       "\n",
       "    .dataframe thead th {\n",
       "        text-align: right;\n",
       "    }\n",
       "</style>\n",
       "<table border=\"1\" class=\"dataframe\">\n",
       "  <thead>\n",
       "    <tr style=\"text-align: right;\">\n",
       "      <th></th>\n",
       "      <th>movieId</th>\n",
       "      <th>title</th>\n",
       "      <th>genres</th>\n",
       "      <th>clean_title</th>\n",
       "    </tr>\n",
       "  </thead>\n",
       "  <tbody>\n",
       "    <tr>\n",
       "      <th>0</th>\n",
       "      <td>1</td>\n",
       "      <td>Toy Story (1995)</td>\n",
       "      <td>Adventure|Animation|Children|Comedy|Fantasy</td>\n",
       "      <td>Toy Story 1995</td>\n",
       "    </tr>\n",
       "    <tr>\n",
       "      <th>1</th>\n",
       "      <td>2</td>\n",
       "      <td>Jumanji (1995)</td>\n",
       "      <td>Adventure|Children|Fantasy</td>\n",
       "      <td>Jumanji 1995</td>\n",
       "    </tr>\n",
       "    <tr>\n",
       "      <th>2</th>\n",
       "      <td>3</td>\n",
       "      <td>Grumpier Old Men (1995)</td>\n",
       "      <td>Comedy|Romance</td>\n",
       "      <td>Grumpier Old Men 1995</td>\n",
       "    </tr>\n",
       "  </tbody>\n",
       "</table>\n",
       "</div>"
      ],
      "text/plain": [
       "   movieId                    title  \\\n",
       "0        1         Toy Story (1995)   \n",
       "1        2           Jumanji (1995)   \n",
       "2        3  Grumpier Old Men (1995)   \n",
       "\n",
       "                                        genres            clean_title  \n",
       "0  Adventure|Animation|Children|Comedy|Fantasy         Toy Story 1995  \n",
       "1                   Adventure|Children|Fantasy           Jumanji 1995  \n",
       "2                               Comedy|Romance  Grumpier Old Men 1995  "
      ]
     },
     "execution_count": 96,
     "metadata": {},
     "output_type": "execute_result"
    }
   ],
   "source": [
    "movies_df.head(3)"
   ]
  },
  {
   "cell_type": "code",
   "execution_count": 97,
   "metadata": {},
   "outputs": [],
   "source": [
    "vectorizer = TfidfVectorizer(ngram_range=(1, 2), stop_words='english')"
   ]
  },
  {
   "cell_type": "code",
   "execution_count": 98,
   "metadata": {},
   "outputs": [],
   "source": [
    "tfidf = vectorizer.fit_transform(movies_df['clean_title'])"
   ]
  },
  {
   "cell_type": "code",
   "execution_count": 100,
   "metadata": {},
   "outputs": [
    {
     "name": "stdout",
     "output_type": "stream",
     "text": [
      "<class 'scipy.sparse._csr.csr_matrix'>\n",
      "(9742, 29930)\n"
     ]
    }
   ],
   "source": [
    "print(type(tfidf))\n",
    "print(tfidf.shape)  # Number of movies x Number of unique words"
   ]
  },
  {
   "cell_type": "code",
   "execution_count": 78,
   "metadata": {},
   "outputs": [],
   "source": [
    "# How a movie title is represented in the TF-IDF matrix\n",
    "# from scipy.sparse import csr_matrix\n",
    "\n",
    "# # Create a 2D array\n",
    "# arr = [[0, 0, 5, 0, 0, 0], [0, 0, 0, 0, 11, 0, ], [0, 0, 0, 0, 0, 20]]\n",
    "\n",
    "(0, 2, 5), (1, 4, 11), (2, 5, 20)\n",
    "\n",
    "# # Convert the 2D array to a CSR matrix\n",
    "# matrix = csr_matrix(arr)\n",
    "\n",
    "# print(matrix)"
   ]
  },
  {
   "cell_type": "code",
   "execution_count": 79,
   "metadata": {},
   "outputs": [],
   "source": [
    "def search(title):\n",
    "    title = clean_title(title)\n",
    "    query_vec = vectorizer.transform([title])\n",
    "    similarity = cosine_similarity(query_vec, tfidf).flatten()\n",
    "    indices = np.argpartition(similarity, -5)[-5:]\n",
    "    similar_movies = movies_df.iloc[indices][::-1]\n",
    "    return similar_movies"
   ]
  },
  {
   "cell_type": "code",
   "execution_count": 80,
   "metadata": {},
   "outputs": [
    {
     "data": {
      "application/vnd.jupyter.widget-view+json": {
       "model_id": "e9e3ff3b3f3a46d3a5e951bc80fcb2ca",
       "version_major": 2,
       "version_minor": 0
      },
      "text/plain": [
       "Text(value='', description='Movie Title:', placeholder='Enter a movie title')"
      ]
     },
     "metadata": {},
     "output_type": "display_data"
    },
    {
     "data": {
      "application/vnd.jupyter.widget-view+json": {
       "model_id": "08559d852b8a43fa87e9734178998d66",
       "version_major": 2,
       "version_minor": 0
      },
      "text/plain": [
       "Output()"
      ]
     },
     "metadata": {},
     "output_type": "display_data"
    }
   ],
   "source": [
    "# type(similarity)\n",
    "# similarity\n",
    "\n",
    "movie_input = widgets.Text(\n",
    "    placeholder='Enter a movie title',\n",
    "    description='Movie Title:', \n",
    "    disabled=False)\n",
    "\n",
    "movie_list = widgets.Output()\n",
    "\n",
    "def on_type(data):\n",
    "    with movie_list:\n",
    "        movie_list.clear_output()\n",
    "        # print(data)\n",
    "        title = data['new']\n",
    "        if len(title) > 5:\n",
    "            display(search(title))\n",
    "\n",
    "movie_input.observe(on_type, names='value')\n",
    "\n",
    "display(movie_input, movie_list)"
   ]
  },
  {
   "cell_type": "code",
   "execution_count": 81,
   "metadata": {},
   "outputs": [
    {
     "data": {
      "text/plain": [
       "array([ 31,  40,  43,  46,  57,  63,  71,  96, 145, 151, 166, 171, 177,\n",
       "       201, 206, 220, 229, 234, 240, 247, 269, 270, 273, 275, 304, 328,\n",
       "       341, 347, 353, 357, 364, 367, 380, 389, 396, 411, 448, 451, 453,\n",
       "       456, 471, 533, 559, 573, 584, 587, 610])"
      ]
     },
     "execution_count": 81,
     "metadata": {},
     "output_type": "execute_result"
    }
   ],
   "source": [
    "movie_id = 1\n",
    "# ratings_df[(ratings_df['movieId'] == movie_id) & (ratings_df['rating'] >= 5.0)]['userId'].count()\n",
    "similar_users = ratings_df[(ratings_df['movieId'] == movie_id) & (ratings_df['rating'] >= 5.0)]['userId'].unique()\n",
    "similar_users"
   ]
  },
  {
   "cell_type": "code",
   "execution_count": 83,
   "metadata": {},
   "outputs": [
    {
     "data": {
      "text/plain": [
       "1       1.000000\n",
       "296     0.531915\n",
       "260     0.489362\n",
       "593     0.468085\n",
       "588     0.468085\n",
       "318     0.446809\n",
       "364     0.425532\n",
       "480     0.425532\n",
       "356     0.425532\n",
       "50      0.404255\n",
       "1198    0.404255\n",
       "Name: movieId, dtype: float64"
      ]
     },
     "execution_count": 83,
     "metadata": {},
     "output_type": "execute_result"
    }
   ],
   "source": [
    "similar_user_recs = ratings_df[ratings_df['userId'].isin(similar_users) & (ratings_df['rating'] >= 4.0)]['movieId']\n",
    "movie_recs = similar_user_recs.value_counts() / len(similar_users)\n",
    "movie_recs = movie_recs[movie_recs >= 0.4]\n",
    "movie_recs "
   ]
  },
  {
   "cell_type": "code",
   "execution_count": 84,
   "metadata": {},
   "outputs": [],
   "source": [
    "all_users = ratings_df[(ratings_df['movieId'].isin(similar_user_recs.index)) & (ratings_df['rating'] > 4.0)]\n",
    "# all_users"
   ]
  },
  {
   "cell_type": "code",
   "execution_count": 85,
   "metadata": {},
   "outputs": [
    {
     "data": {
      "text/plain": [
       "6377      0.226852\n",
       "5618      0.194444\n",
       "68954     0.180556\n",
       "4886      0.162037\n",
       "4896      0.134259\n",
       "            ...   \n",
       "4902      0.004630\n",
       "6335      0.004630\n",
       "4888      0.004630\n",
       "4920      0.004630\n",
       "100159    0.004630\n",
       "Name: movieId, Length: 131, dtype: float64"
      ]
     },
     "execution_count": 85,
     "metadata": {},
     "output_type": "execute_result"
    }
   ],
   "source": [
    "all_users_recs = all_users['movieId'].value_counts() / len(all_users['userId'].unique())\n",
    "all_users_recs "
   ]
  },
  {
   "cell_type": "code",
   "execution_count": 89,
   "metadata": {},
   "outputs": [],
   "source": [
    "rec_percentages = pd.concat([similar_user_recs, all_users_recs], axis=1)\n",
    "rec_percentages.columns = ['similar_users', 'all_users']\n",
    "# rec_percentages = rec_percentages.fillna(0)\n",
    "rec_percentages['score'] = rec_percentages['similar_users'] / rec_percentages['all_users']\n",
    "rec_final = rec_percentages.sort_values('score', ascending=False)[:10]"
   ]
  },
  {
   "cell_type": "code",
   "execution_count": 90,
   "metadata": {},
   "outputs": [
    {
     "data": {
      "text/html": [
       "<div>\n",
       "<style scoped>\n",
       "    .dataframe tbody tr th:only-of-type {\n",
       "        vertical-align: middle;\n",
       "    }\n",
       "\n",
       "    .dataframe tbody tr th {\n",
       "        vertical-align: top;\n",
       "    }\n",
       "\n",
       "    .dataframe thead th {\n",
       "        text-align: right;\n",
       "    }\n",
       "</style>\n",
       "<table border=\"1\" class=\"dataframe\">\n",
       "  <thead>\n",
       "    <tr style=\"text-align: right;\">\n",
       "      <th></th>\n",
       "      <th>similar_users</th>\n",
       "      <th>all_users</th>\n",
       "      <th>score</th>\n",
       "      <th>movieId</th>\n",
       "      <th>title</th>\n",
       "      <th>genres</th>\n",
       "      <th>clean_title</th>\n",
       "    </tr>\n",
       "  </thead>\n",
       "  <tbody>\n",
       "    <tr>\n",
       "      <th>6461</th>\n",
       "      <td>135887</td>\n",
       "      <td>0.004630</td>\n",
       "      <td>29351592.0</td>\n",
       "      <td>52458</td>\n",
       "      <td>Disturbia (2007)</td>\n",
       "      <td>Drama|Thriller</td>\n",
       "      <td>Disturbia 2007</td>\n",
       "    </tr>\n",
       "    <tr>\n",
       "      <th>8109</th>\n",
       "      <td>101525</td>\n",
       "      <td>0.004630</td>\n",
       "      <td>21929400.0</td>\n",
       "      <td>100611</td>\n",
       "      <td>Escape from Planet Earth (2013)</td>\n",
       "      <td>Adventure|Animation|Comedy|Sci-Fi</td>\n",
       "      <td>Escape from Planet Earth 2013</td>\n",
       "    </tr>\n",
       "    <tr>\n",
       "      <th>5406</th>\n",
       "      <td>99007</td>\n",
       "      <td>0.004630</td>\n",
       "      <td>21385512.0</td>\n",
       "      <td>25769</td>\n",
       "      <td>Steamboat Bill, Jr. (1928)</td>\n",
       "      <td>Comedy|Romance</td>\n",
       "      <td>Steamboat Bill Jr 1928</td>\n",
       "    </tr>\n",
       "    <tr>\n",
       "      <th>8104</th>\n",
       "      <td>86898</td>\n",
       "      <td>0.004630</td>\n",
       "      <td>18769968.0</td>\n",
       "      <td>100507</td>\n",
       "      <td>21 and Over (2013)</td>\n",
       "      <td>Comedy</td>\n",
       "      <td>21 and Over 2013</td>\n",
       "    </tr>\n",
       "    <tr>\n",
       "      <th>7668</th>\n",
       "      <td>66097</td>\n",
       "      <td>0.004630</td>\n",
       "      <td>14276952.0</td>\n",
       "      <td>88932</td>\n",
       "      <td>Final Destination 5 (2011)</td>\n",
       "      <td>Horror|Thriller|IMAX</td>\n",
       "      <td>Final Destination 5 2011</td>\n",
       "    </tr>\n",
       "    <tr>\n",
       "      <th>8106</th>\n",
       "      <td>93840</td>\n",
       "      <td>0.009259</td>\n",
       "      <td>10134720.0</td>\n",
       "      <td>100553</td>\n",
       "      <td>Frozen Planet (2011)</td>\n",
       "      <td>Documentary</td>\n",
       "      <td>Frozen Planet 2011</td>\n",
       "    </tr>\n",
       "    <tr>\n",
       "      <th>8091</th>\n",
       "      <td>40278</td>\n",
       "      <td>0.004630</td>\n",
       "      <td>8700048.0</td>\n",
       "      <td>100163</td>\n",
       "      <td>Hansel &amp; Gretel: Witch Hunters (2013)</td>\n",
       "      <td>Action|Fantasy|Horror|IMAX</td>\n",
       "      <td>Hansel  Gretel Witch Hunters 2013</td>\n",
       "    </tr>\n",
       "    <tr>\n",
       "      <th>8090</th>\n",
       "      <td>39381</td>\n",
       "      <td>0.004630</td>\n",
       "      <td>8506296.0</td>\n",
       "      <td>100159</td>\n",
       "      <td>Sightseers (2012)</td>\n",
       "      <td>Comedy</td>\n",
       "      <td>Sightseers 2012</td>\n",
       "    </tr>\n",
       "    <tr>\n",
       "      <th>8099</th>\n",
       "      <td>69275</td>\n",
       "      <td>0.009259</td>\n",
       "      <td>7481700.0</td>\n",
       "      <td>100383</td>\n",
       "      <td>Side Effects (2013)</td>\n",
       "      <td>Crime|Drama|Mystery|Thriller</td>\n",
       "      <td>Side Effects 2013</td>\n",
       "    </tr>\n",
       "    <tr>\n",
       "      <th>8088</th>\n",
       "      <td>26547</td>\n",
       "      <td>0.004630</td>\n",
       "      <td>5734152.0</td>\n",
       "      <td>100083</td>\n",
       "      <td>Movie 43 (2013)</td>\n",
       "      <td>Comedy</td>\n",
       "      <td>Movie 43 2013</td>\n",
       "    </tr>\n",
       "  </tbody>\n",
       "</table>\n",
       "</div>"
      ],
      "text/plain": [
       "      similar_users  all_users       score  movieId  \\\n",
       "6461         135887   0.004630  29351592.0    52458   \n",
       "8109         101525   0.004630  21929400.0   100611   \n",
       "5406          99007   0.004630  21385512.0    25769   \n",
       "8104          86898   0.004630  18769968.0   100507   \n",
       "7668          66097   0.004630  14276952.0    88932   \n",
       "8106          93840   0.009259  10134720.0   100553   \n",
       "8091          40278   0.004630   8700048.0   100163   \n",
       "8090          39381   0.004630   8506296.0   100159   \n",
       "8099          69275   0.009259   7481700.0   100383   \n",
       "8088          26547   0.004630   5734152.0   100083   \n",
       "\n",
       "                                      title  \\\n",
       "6461                       Disturbia (2007)   \n",
       "8109        Escape from Planet Earth (2013)   \n",
       "5406             Steamboat Bill, Jr. (1928)   \n",
       "8104                     21 and Over (2013)   \n",
       "7668             Final Destination 5 (2011)   \n",
       "8106                   Frozen Planet (2011)   \n",
       "8091  Hansel & Gretel: Witch Hunters (2013)   \n",
       "8090                      Sightseers (2012)   \n",
       "8099                    Side Effects (2013)   \n",
       "8088                        Movie 43 (2013)   \n",
       "\n",
       "                                 genres                        clean_title  \n",
       "6461                     Drama|Thriller                     Disturbia 2007  \n",
       "8109  Adventure|Animation|Comedy|Sci-Fi      Escape from Planet Earth 2013  \n",
       "5406                     Comedy|Romance             Steamboat Bill Jr 1928  \n",
       "8104                             Comedy                   21 and Over 2013  \n",
       "7668               Horror|Thriller|IMAX           Final Destination 5 2011  \n",
       "8106                        Documentary                 Frozen Planet 2011  \n",
       "8091         Action|Fantasy|Horror|IMAX  Hansel  Gretel Witch Hunters 2013  \n",
       "8090                             Comedy                    Sightseers 2012  \n",
       "8099       Crime|Drama|Mystery|Thriller                  Side Effects 2013  \n",
       "8088                             Comedy                      Movie 43 2013  "
      ]
     },
     "execution_count": 90,
     "metadata": {},
     "output_type": "execute_result"
    }
   ],
   "source": [
    "rec_final.head(10).merge(movies_df, left_index=True, right_on='movieId')"
   ]
  },
  {
   "cell_type": "code",
   "execution_count": null,
   "metadata": {},
   "outputs": [],
   "source": []
  }
 ],
 "metadata": {
  "kernelspec": {
   "display_name": "ga",
   "language": "python",
   "name": "python3"
  },
  "language_info": {
   "codemirror_mode": {
    "name": "ipython",
    "version": 3
   },
   "file_extension": ".py",
   "mimetype": "text/x-python",
   "name": "python",
   "nbconvert_exporter": "python",
   "pygments_lexer": "ipython3",
   "version": "3.11.0"
  }
 },
 "nbformat": 4,
 "nbformat_minor": 2
}
